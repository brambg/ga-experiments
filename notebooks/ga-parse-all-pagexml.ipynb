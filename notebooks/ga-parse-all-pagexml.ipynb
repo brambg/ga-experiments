{
 "cells": [
  {
   "cell_type": "code",
   "execution_count": 1,
   "metadata": {},
   "outputs": [],
   "source": [
    "import glob\n",
    "import nltk\n",
    "import traceback\n",
    "\n",
    "from collections import Counter\n",
    "from concurrent.futures import ProcessPoolExecutor\n",
    "\n",
    "from pagexml.parser import parse_pagexml_file\n",
    "from pagexml.model.physical_document_model import pretty_print_textregion\n",
    "\n",
    "data_dir='../pagexml'\n",
    "scan_dirs = glob.glob(f'{data_dir}/*[0-9]')\n",
    "\n",
    "def scan_paths(scan_dir:str):\n",
    "    return glob.glob(f'{scan_dir}/*.xml')\n",
    "\n",
    "def safe_parse(pagexml_path:str):\n",
    "    try:\n",
    "        return parse_pagexml_file(pagexml_path)\n",
    "    except Exception:\n",
    "        print(pagexml_path)\n",
    "        sub=string.replace(pagexml_path,'../pagexml/','')\n",
    "        print(f'http://localhost:8000/{sub}')\n",
    "        print(traceback.format_exc())\n",
    "        return None"
   ]
  },
  {
   "cell_type": "code",
   "execution_count": 2,
   "metadata": {},
   "outputs": [
    {
     "data": {
      "text/plain": [
       "722"
      ]
     },
     "execution_count": 2,
     "metadata": {},
     "output_type": "execute_result"
    }
   ],
   "source": [
    "len(scan_dirs)"
   ]
  },
  {
   "cell_type": "code",
   "execution_count": null,
   "metadata": {},
   "outputs": [],
   "source": [
    "paths = [p for sd in scan_dirs for p in scan_paths(sd)]"
   ]
  },
  {
   "cell_type": "code",
   "execution_count": null,
   "metadata": {},
   "outputs": [],
   "source": [
    "%%time\n",
    "with ProcessPoolExecutor() as executor:\n",
    "    scans = list(executor.map(safe_parse, paths))"
   ]
  },
  {
   "cell_type": "code",
   "execution_count": null,
   "metadata": {},
   "outputs": [],
   "source": [
    "len(scans)\n",
    "valid_scans = [s for s in scans if s != None]\n",
    "len(valid_scans)"
   ]
  },
  {
   "cell_type": "code",
   "execution_count": null,
   "metadata": {},
   "outputs": [],
   "source": [
    "set([scan.id for scan in scans])"
   ]
  },
  {
   "cell_type": "code",
   "execution_count": null,
   "metadata": {},
   "outputs": [],
   "source": [
    "set([scan.main_type for scan in scans])"
   ]
  },
  {
   "cell_type": "code",
   "execution_count": null,
   "metadata": {},
   "outputs": [],
   "source": [
    "set([scan.parent for scan in scans])"
   ]
  },
  {
   "cell_type": "code",
   "execution_count": null,
   "metadata": {},
   "outputs": [],
   "source": [
    "set([scan.orientation for scan in scans])"
   ]
  },
  {
   "cell_type": "code",
   "execution_count": null,
   "metadata": {},
   "outputs": [],
   "source": [
    "words = [w for scan in scans for w in scan.get_words()]\n",
    "len(words)\n",
    "lwords =[w.lower() for w in words]"
   ]
  },
  {
   "cell_type": "code",
   "execution_count": null,
   "metadata": {},
   "outputs": [],
   "source": [
    "bc = Counter([b for b in nltk.bigrams(lwords)])\n",
    "bc.most_common()"
   ]
  },
  {
   "cell_type": "code",
   "execution_count": null,
   "metadata": {},
   "outputs": [],
   "source": [
    "tc = Counter([b for b in nltk.trigrams(lwords)])\n",
    "tc.most_common()"
   ]
  }
 ],
 "metadata": {
  "kernelspec": {
   "display_name": "Python 3",
   "language": "python",
   "name": "python3"
  },
  "language_info": {
   "codemirror_mode": {
    "name": "ipython",
    "version": 3
   },
   "file_extension": ".py",
   "mimetype": "text/x-python",
   "name": "python",
   "nbconvert_exporter": "python",
   "pygments_lexer": "ipython3",
   "version": "3.8.5"
  }
 },
 "nbformat": 4,
 "nbformat_minor": 4
}
